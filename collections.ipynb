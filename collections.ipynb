{
 "metadata": {
  "language_info": {
   "codemirror_mode": {
    "name": "ipython",
    "version": 3
   },
   "file_extension": ".py",
   "mimetype": "text/x-python",
   "name": "python",
   "nbconvert_exporter": "python",
   "pygments_lexer": "ipython3",
   "version": "3.9.0-final"
  },
  "orig_nbformat": 2,
  "kernelspec": {
   "name": "python3",
   "display_name": "Python 3.9.0 64-bit",
   "metadata": {
    "interpreter": {
     "hash": "aee8b7b246df8f9039afb4144a1f6fd8d2ca17a180786b69acc140d282b71a49"
    }
   }
  }
 },
 "nbformat": 4,
 "nbformat_minor": 2,
 "cells": [
  {
   "source": [
    "## defaultdict\n",
    "\n",
    "with defaultdict, you do not need to check whether the key is presended or not.\n",
    "\n",
    "And also, we can avoid KeyError when we need to append item into nested list inside a dict.\n"
   ],
   "cell_type": "markdown",
   "metadata": {}
  },
  {
   "cell_type": "code",
   "execution_count": null,
   "metadata": {},
   "outputs": [],
   "source": [
    "from collections import defaultdict\n",
    "\n",
    "colors = (\n",
    "    ('Yasoob', 'Yellow'),\n",
    "    ('Ali', 'Blue'),\n",
    "    ('Arham', 'Green'),\n",
    "    ('Ali', 'Black'),\n",
    "    ('Yasoob', 'Red'),\n",
    "    ('Ahmed', 'Silver'),\n",
    ")\n",
    "\n",
    "favorite_colors = defaultdict(list)\n",
    "print(favorite_colors, '\\n')\n",
    "\n",
    "for name, color in colors:\n",
    "    favorite_colors[name].append(color)\n",
    "\n",
    "\n",
    "print(favorite_colors)"
   ]
  },
  {
   "cell_type": "code",
   "execution_count": null,
   "metadata": {},
   "outputs": [],
   "source": [
    "# some_dict = {}\n",
    "# some_dict['colours']['favourite'] = \"yellow\"\n",
    "# raise KeyError\n",
    "\n",
    "from collections import defaultdict\n",
    "import json\n",
    "\n",
    "tree = lambda : defaultdict(tree)\n",
    "some_dict = tree()\n",
    "print(some_dict, '\\n')\n",
    "\n",
    "some_dict['colours']['favourite'] = \"yellow\"\n",
    "some_dict['colours']['John'] = \"Red\"\n",
    "\n",
    "print(some_dict, '\\n')\n",
    "print(json.dumps(some_dict))"
   ]
  },
  {
   "source": [
    "## OrderedDict\n",
    "\n",
    "OrderedDict keeps its entried sort as they are initially inserted."
   ],
   "cell_type": "markdown",
   "metadata": {}
  },
  {
   "cell_type": "code",
   "execution_count": null,
   "metadata": {},
   "outputs": [],
   "source": [
    "from collections import OrderedDict\n",
    "\n",
    "colors =  OrderedDict({\"Red\" : 198, \"Green\" : 170, \"Blue\" : 160})\n",
    "\n",
    "for key, item in colors.items():\n",
    "    print(f'{key} = {item}')"
   ]
  },
  {
   "source": [
    "## Counter\n",
    "\n",
    "Counter allows us to count the occurrences of a particular item."
   ],
   "cell_type": "markdown",
   "metadata": {}
  },
  {
   "cell_type": "code",
   "execution_count": null,
   "metadata": {},
   "outputs": [],
   "source": [
    "from collections import Counter\n",
    "\n",
    "colors = (\n",
    "    ('Yasoob', 'Yellow'),\n",
    "    ('Ali', 'Blue'),\n",
    "    ('Arham', 'Green'),\n",
    "    ('Ali', 'Black'),\n",
    "    ('Yasoob', 'Red'),\n",
    "    ('Ahmed', 'Silver'),\n",
    ")\n",
    "\n",
    "counter = Counter(name for name, color in colors)\n",
    "counter"
   ]
  },
  {
   "cell_type": "code",
   "execution_count": null,
   "metadata": {},
   "outputs": [],
   "source": [
    "nums = [1, 2, 3, 1, 2, 1, 3]\n",
    "Counter(nums)"
   ]
  },
  {
   "source": [
    "## namedtuple\n",
    "\n",
    "With namedtuple, we do not need to use integer index to access members of tuple. "
   ],
   "cell_type": "markdown",
   "metadata": {}
  },
  {
   "cell_type": "code",
   "execution_count": null,
   "metadata": {},
   "outputs": [],
   "source": [
    "from collections import namedtuple\n",
    "\n",
    "Animal = namedtuple('Animal', ['name', 'age', 'type'])\n",
    "perry = Animal(name=\"perry\", age=31, type=\"cat\")\n",
    "\n",
    "print(perry, '\\n')\n",
    "\n",
    "print(perry.name)\n",
    "#can also use integer index to access, however, using named tuple can makes our code self-document.\n",
    "print(perry[0], '\\n')\n",
    "\n",
    "#can converted between dict and namedtuple\n",
    "animal = {'name':'perry', 'age':31, 'type':'cat'}\n",
    "a = Animal(**animal)\n",
    "print(a)\n",
    "print(a._asdict())"
   ]
  },
  {
   "source": [
    "## Enumerate\n",
    "\n",
    "It allows us to loop over something and have an automatic counter."
   ],
   "cell_type": "markdown",
   "metadata": {}
  },
  {
   "cell_type": "code",
   "execution_count": null,
   "metadata": {},
   "outputs": [],
   "source": [
    "my_list = ['apple', 'banana', 'grapes', 'pear']\n",
    "\n",
    "for index, value in enumerate(my_list):\n",
    "    print(index, value)\n",
    "\n",
    "print('-------')\n",
    "# can specify the start index\n",
    "for index, value in enumerate(my_list, 1):\n",
    "    print(index, value)\n",
    "\n",
    "print('-------')\n",
    "counter_list = list(enumerate(my_list, 1))\n",
    "print(counter_list)"
   ]
  },
  {
   "source": [
    "## Zip and Unzip\n",
    "\n",
    "it can allow us to combine two list easily.\n",
    "\n",
    "After zipping lists, an iterator is returned."
   ],
   "cell_type": "markdown",
   "metadata": {}
  },
  {
   "cell_type": "code",
   "execution_count": 44,
   "metadata": {},
   "outputs": [
    {
     "output_type": "stream",
     "name": "stdout",
     "text": [
      "[('Joe', 'Schmoe', 23), ('Earnst', 'Ehlmann', 65), ('Thomas', 'Fischer', 11), ('Martin', 'Walter', 36), ('Charles', 'Rogan', 83)] \n\nJoe Schmoe is 23 years old\nEarnst Ehlmann is 65 years old\nThomas Fischer is 11 years old\nMartin Walter is 36 years old\nCharles Rogan is 83 years old\n\nfirst name: ('Joe', 'Earnst', 'Thomas', 'Martin', 'Charles')\nlast name: ('Schmoe', 'Ehlmann', 'Fischer', 'Walter', 'Rogan') \nage: (23, 65, 11, 36, 83)\n"
     ]
    }
   ],
   "source": [
    "first_name = ['Joe','Earnst','Thomas','Martin','Charles']\n",
    "last_name = ['Schmoe','Ehlmann','Fischer','Walter','Rogan','Green']\n",
    "age = [23, 65, 11, 36, 83]\n",
    "\n",
    "zipped = list(zip(first_name, last_name, age))\n",
    "print(zipped, '\\n')\n",
    "\n",
    "for first_name, last_name, age in zipped:\n",
    "    print(f\"{first_name} {last_name} is {age} years old\")\n",
    "\n",
    "new_first_name, new_last_name, new_age = list(zip(*zipped))\n",
    "print()\n",
    "print(f\"first name: {new_first_name}\\nlast name: {new_last_name} \\nage: {new_age}\")\n"
   ]
  }
 ]
}