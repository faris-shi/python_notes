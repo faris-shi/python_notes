{
 "metadata": {
  "language_info": {
   "codemirror_mode": {
    "name": "ipython",
    "version": 3
   },
   "file_extension": ".py",
   "mimetype": "text/x-python",
   "name": "python",
   "nbconvert_exporter": "python",
   "pygments_lexer": "ipython3",
   "version": "3.9.0-final"
  },
  "orig_nbformat": 2,
  "kernelspec": {
   "name": "python3",
   "display_name": "Python 3.9.0 64-bit",
   "metadata": {
    "interpreter": {
     "hash": "aee8b7b246df8f9039afb4144a1f6fd8d2ca17a180786b69acc140d282b71a49"
    }
   }
  }
 },
 "nbformat": 4,
 "nbformat_minor": 2,
 "cells": [
  {
   "source": [
    "## Decorator\n",
    "\n",
    "Decorator is a function that takes another functions, and also extend the behaviour of these functions without explictly modifying it."
   ],
   "cell_type": "markdown",
   "metadata": {}
  },
  {
   "source": [
    "### Functions\n",
    "\n",
    "Everything in Python is Object. Function is in first class, which means function can be passed around and used as arguments"
   ],
   "cell_type": "markdown",
   "metadata": {}
  },
  {
   "cell_type": "code",
   "execution_count": null,
   "metadata": {},
   "outputs": [],
   "source": [
    "# passing function as arguments\n",
    "def say_hello(name):\n",
    "    return f'Hello {name}'\n",
    "\n",
    "def be_awesome(name):\n",
    "    return f'Hi, {name}. We are awesome!'\n",
    "\n",
    "def greet(func):\n",
    "    return func('Faris')\n",
    "\n",
    "greet(say_hello)"
   ]
  },
  {
   "cell_type": "code",
   "execution_count": null,
   "metadata": {},
   "outputs": [],
   "source": [
    " # inner function\n",
    " def parent():\n",
    "     def first_child():\n",
    "         print(\"first child\")\n",
    "     def second_child():\n",
    "         print(\"second child\")\n",
    "\n",
    "     print('parent')\n",
    "     first_child()\n",
    "     second_child()\n",
    "\n",
    "parent()"
   ]
  },
  {
   "cell_type": "code",
   "execution_count": null,
   "metadata": {},
   "outputs": [],
   "source": [
    "# return function from function\n",
    "def parent(num):\n",
    "    def first_child():\n",
    "        print(\"first child\")\n",
    "    def second_child():\n",
    "        print(\"second child\")\n",
    "    return first_child if num == 1 else second_child\n",
    "\n",
    "\n",
    "#first is just a reference of function first_child\n",
    "first = parent(1)\n",
    "second = parent(2)\n",
    "\n",
    "#take two braces to call this function.\n",
    "first()\n",
    "second()"
   ]
  },
  {
   "source": [
    "### Simple Decorator\n",
    "\n",
    "sometimes, we can implement simple docorator by using inner functions."
   ],
   "cell_type": "markdown",
   "metadata": {}
  },
  {
   "cell_type": "code",
   "execution_count": null,
   "metadata": {},
   "outputs": [],
   "source": [
    "# simple decorator\n",
    "def simple_decorator(func):\n",
    "    def wrapper():\n",
    "        print(\"something happend before the function is called\")\n",
    "        func()\n",
    "        print(\"something happend after the function is called\")\n",
    "    return wrapper\n",
    "\n",
    "def say_hi():\n",
    "    print('Hi')\n",
    "\n",
    "# hi is a reference of wrapper function, which means it wrapper the say_hi function, and enhance say_hi behaviour.\n",
    "hi = simple_decorator(say_hi)\n",
    "print(hi, '\\n')\n",
    "hi()"
   ]
  },
  {
   "cell_type": "code",
   "execution_count": null,
   "metadata": {},
   "outputs": [],
   "source": [
    "# Syntactic Sugar without arguments\n",
    "def simple_decorator(func):\n",
    "    def wrapper():\n",
    "        print(\"do something before calling funcs\")\n",
    "        func()\n",
    "    return wrapper\n",
    "\n",
    "@simple_decorator\n",
    "def say_hi():\n",
    "    print('Hi')\n",
    "\n",
    "say_hi()"
   ]
  },
  {
   "cell_type": "code",
   "execution_count": null,
   "metadata": {},
   "outputs": [],
   "source": [
    "# with arguments, *args, **kargs means it can accept an arbitrary number of positional and keyword arguments.\n",
    "def simple_decorator(func):\n",
    "    def wrapper(*args, **kargs):\n",
    "        print(\"do something before calling funcs\")\n",
    "        func(*args, **kargs)\n",
    "    return wrapper\n",
    "\n",
    "@simple_decorator\n",
    "def greet(name):\n",
    "    print(f'Hi, {name}')\n",
    "\n",
    "greet('Faris')"
   ]
  },
  {
   "cell_type": "code",
   "execution_count": null,
   "metadata": {},
   "outputs": [],
   "source": [
    "# return value from Decorated function\n",
    "def simple_decorator(func):\n",
    "    def wrapper(*args, **kargs):\n",
    "        print(\"do something before calling funcs\")\n",
    "        return func(*args, **kargs)\n",
    "    return wrapper\n",
    "\n",
    "@simple_decorator\n",
    "def greet(name):\n",
    "    return f'Hi, {name}'\n",
    "\n",
    "result = greet('Faris')\n",
    "result"
   ]
  },
  {
   "cell_type": "code",
   "execution_count": null,
   "metadata": {},
   "outputs": [],
   "source": [
    "# However, examples above lost their introspection ability, which means they do not know about their attributes at runtime. For instance, a function need to know its own name and documentation\n",
    "\n",
    "print(greet, '\\n')\n",
    "print(greet.__name__, '\\n')\n",
    "help(greet)"
   ]
  },
  {
   "source": [
    "We can see greet function has gotten confused about its identity. Now, it point to the wrapper method. \n",
    "\n",
    "In order to fix this issue, the decorator function should use `@functools.wraps`, which can preserve information about the original functions."
   ],
   "cell_type": "markdown",
   "metadata": {}
  },
  {
   "cell_type": "code",
   "execution_count": null,
   "metadata": {},
   "outputs": [],
   "source": [
    "import functools\n",
    "\n",
    "def simple_decorator(func):\n",
    "    @functools.wraps(func)\n",
    "    def wrapper(*args, **kargs):\n",
    "        print(\"do something before calling funcs\")\n",
    "        return func(*args, **kargs)\n",
    "    return wrapper\n",
    "\n",
    "@simple_decorator\n",
    "def greet(name):\n",
    "    return f'Hi, {name}'\n",
    "\n",
    "print(greet, '\\n')\n",
    "print(greet.__name__, '\\n')\n",
    "help(greet)"
   ]
  },
  {
   "source": [
    "### Example\n",
    "\n",
    "#### Timing Functions\n",
    "It will measure a time which the function takes to execute and print the duration to console"
   ],
   "cell_type": "markdown",
   "metadata": {}
  },
  {
   "cell_type": "code",
   "execution_count": null,
   "metadata": {},
   "outputs": [],
   "source": [
    "import functools\n",
    "import time\n",
    "\n",
    "def timer(func):\n",
    "    @functools.wraps(func)\n",
    "    def wrapper(*args, **kargs):\n",
    "        start_time = time.perf_counter()\n",
    "        value = func(*args, **kargs)\n",
    "        end_time = time.perf_counter()\n",
    "        interval = end_time - start_time\n",
    "        print(f'Finished {func.__name__!r} in {interval:.4f} secs')\n",
    "        return value\n",
    "    return wrapper\n",
    "\n",
    "@timer\n",
    "def waste_time(num):\n",
    "    print('sum:', sum(list(range(1, num + 1))))\n",
    "\n",
    "waste_time(10)"
   ]
  },
  {
   "source": [
    "#### Debug\n",
    "\n",
    "It will print the arguments a function is called with as well as its return value every time the function is called."
   ],
   "cell_type": "markdown",
   "metadata": {}
  },
  {
   "cell_type": "code",
   "execution_count": null,
   "metadata": {},
   "outputs": [],
   "source": [
    "import functools\n",
    "\n",
    "def debug(func):\n",
    "\n",
    "    @functools.wraps(func)\n",
    "    def wrapper(*args, **kargs):\n",
    "        args_repr = [repr(item) for item in args]\n",
    "        kwargs_repr = [f'{key} = {value!r}' for key, value in kargs.items()]\n",
    "        signatures = \", \".join(args_repr + kwargs_repr)\n",
    "        print(f'Calling {func.__name__}({signatures})')\n",
    "        value = func(*args, **kargs)\n",
    "        print(f'{func.__name__} returns {value!r}')\n",
    "        return value\n",
    "    return wrapper\n",
    "\n",
    "@debug\n",
    "def say_hi(name):\n",
    "    return f'Hi, {name}'\n",
    "\n",
    "say_hi('Faris')"
   ]
  },
  {
   "source": [
    "### Nesting Decorator\n",
    "\n",
    "it means we can apply several decorators to one function "
   ],
   "cell_type": "markdown",
   "metadata": {}
  },
  {
   "cell_type": "code",
   "execution_count": null,
   "metadata": {},
   "outputs": [],
   "source": [
    "#please notice the order of executing this say_hi. And compare to say_hi_1 \n",
    "\n",
    "@debug\n",
    "@timer\n",
    "# the order of executing is like calling debug(timer(say_hi))\n",
    "def say_hi(name):\n",
    "    print(f'Hi, {name}')\n",
    "\n",
    "say_hi('Faris')\n",
    "print('\\n\\n')\n",
    "\n",
    "@timer\n",
    "@debug\n",
    "# the order of executing is like calling timer(debug(say_hi))\n",
    "def say_hi_1(name):\n",
    "    print(f'How are you?, {name}')\n",
    "\n",
    "say_hi_1('Faris')"
   ]
  },
  {
   "source": [
    "### Decorator with arguments\n"
   ],
   "cell_type": "markdown",
   "metadata": {}
  },
  {
   "cell_type": "code",
   "execution_count": null,
   "metadata": {},
   "outputs": [],
   "source": [
    "import functools\n",
    "\n",
    "def repeat(_func=None, *, num_times=2):\n",
    "    def repeat_decorator(func):\n",
    "        @functools.wraps(func)\n",
    "        def wrapper(*args, **kargs):\n",
    "            for _ in range(num_times):\n",
    "                value = func(*args, **kargs)\n",
    "            return value\n",
    "        return wrapper\n",
    "    if _func is None:\n",
    "        return repeat_decorator\n",
    "    else:\n",
    "        return repeat_decorator(_func)\n",
    "\n",
    "@repeat\n",
    "def say_hi():\n",
    "    print('Hi')\n",
    "\n",
    "@repeat(num_times=3)\n",
    "def say_hello():\n",
    "    print('Hello')\n",
    "\n",
    "say_hi()\n",
    "say_hello()"
   ]
  },
  {
   "source": [
    "### Decorator that can keep tracking of state\n",
    "\n",
    "As we know, functions are also objects in Python. functions will be created once when interpreter loads them."
   ],
   "cell_type": "markdown",
   "metadata": {}
  },
  {
   "cell_type": "code",
   "execution_count": null,
   "metadata": {},
   "outputs": [],
   "source": [
    "import functools\n",
    "\n",
    "def count_call(func):\n",
    "    @functools.wraps(func)\n",
    "    def wrapper(*args, **kargs):\n",
    "        wrapper.num_call += 1\n",
    "        print(f'Calling {wrapper.num_call} of {func.__name__!r}')\n",
    "        return func(*args, **kargs)\n",
    "    wrapper.num_call = 0\n",
    "    return wrapper\n",
    "\n",
    "@count_call\n",
    "def say_hi():\n",
    "    print('Hi')\n",
    "\n",
    "say_hi()\n",
    "say_hi()\n",
    "say_hi()"
   ]
  },
  {
   "source": [
    "### Classes as Decorator\n",
    "\n",
    "The typical way to maintain state is by using Class\n",
    "\n",
    "As we know, the easier way to descirbe decorator is `func = decorator_class(fucs)`. which means we have to take func as an arguments into `__init__` functoin, and also make this class `callable` to implement `__call__`\n",
    "\n",
    "\n",
    "Note we should use `functools.update_wrapper` instead of `@functools.wraps`"
   ],
   "cell_type": "markdown",
   "metadata": {}
  },
  {
   "cell_type": "code",
   "execution_count": null,
   "metadata": {},
   "outputs": [],
   "source": [
    "import functools\n",
    "\n",
    "class CountCalls:\n",
    "\n",
    "    def __init__(self, func):\n",
    "        functools.update_wrapper(self, func)\n",
    "        self.func = func\n",
    "        self.num_call = 0\n",
    "\n",
    "    def __call__(self, *args, **kargs):\n",
    "        self.num_call += 1\n",
    "        print(f'Call {self.num_call} of {self.func.__name__!r}')\n",
    "        return self.func(*args, **kargs)\n",
    "\n",
    "\n",
    "@CountCalls\n",
    "def say_hi(name):\n",
    "    print(f'Hi, {name}')\n",
    "\n",
    "\n",
    "say_hi('Faris')\n",
    "say_hi('Faris1')"
   ]
  },
  {
   "source": [
    "### Singleton"
   ],
   "cell_type": "markdown",
   "metadata": {}
  },
  {
   "cell_type": "code",
   "execution_count": null,
   "metadata": {},
   "outputs": [],
   "source": [
    "import functools\n",
    "\n",
    "def singleton(cls):\n",
    "    @functools.wraps(cls)\n",
    "    def wrapper(*args, **kargs):\n",
    "        if not wrapper.instance:\n",
    "            wrapper.instance = cls(*args, **kargs)\n",
    "        return wrapper.instance\n",
    "\n",
    "    wrapper.instance = 0\n",
    "    return wrapper\n",
    "\n",
    "@singleton\n",
    "class TestSingleton:\n",
    "    def __init__(self):\n",
    "        pass\n",
    "\n",
    "print(TestSingleton())\n",
    "print(TestSingleton())"
   ]
  }
 ]
}